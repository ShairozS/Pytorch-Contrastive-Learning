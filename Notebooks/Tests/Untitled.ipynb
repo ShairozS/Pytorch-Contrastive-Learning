{
 "cells": [
  {
   "cell_type": "markdown",
   "id": "rural-participation",
   "metadata": {},
   "source": [
    "## Dataloader Testing\n",
    "------------------------------"
   ]
  },
  {
   "cell_type": "code",
   "execution_count": 13,
   "id": "invisible-people",
   "metadata": {},
   "outputs": [
    {
     "name": "stdout",
     "output_type": "stream",
     "text": [
      "D:\\Research\\ContrastiveRepresentationLearning\n"
     ]
    }
   ],
   "source": [
    "import os\n",
    "os.chdir('..'); print(os.getcwd()) # To project base directory\n",
    "from Code.dataloaders import LabeledContrastiveDataset "
   ]
  },
  {
   "cell_type": "code",
   "execution_count": null,
   "id": "outer-agenda",
   "metadata": {},
   "outputs": [],
   "source": []
  }
 ],
 "metadata": {
  "kernelspec": {
   "display_name": "Python 3",
   "language": "python",
   "name": "python3"
  },
  "language_info": {
   "codemirror_mode": {
    "name": "ipython",
    "version": 3
   },
   "file_extension": ".py",
   "mimetype": "text/x-python",
   "name": "python",
   "nbconvert_exporter": "python",
   "pygments_lexer": "ipython3",
   "version": "3.8.8"
  }
 },
 "nbformat": 4,
 "nbformat_minor": 5
}
